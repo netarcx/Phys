{
 "cells": [
  {
   "cell_type": "markdown",
   "source": [
    "Question #1\n",
    "\n",
    "Suppose you have a very large supply of 10 nF capacitors ( 1 nF = 10-9 F) but what you need is a capacitance of 38 nF. How could you assemble the caps you have in series and parallel combinations to make an equivalent capacitance of 38 nF?"
   ],
   "metadata": {
    "collapsed": false
   }
  },
  {
   "cell_type": "code",
   "execution_count": 4,
   "metadata": {
    "collapsed": true,
    "pycharm": {
     "name": "#%%\n"
    }
   },
   "outputs": [],
   "source": [
    "smallCap = 10*10^-9\n",
    "equivWanted = 38*10^-9\n"
   ]
  },
  {
   "cell_type": "markdown",
   "source": [
    "Question #2\n",
    "\n",
    "A parallel-plate capacitor, with air dielectric, is charged by a battery, after which the battery is disconnected. A slab of glass dielectric is then slowly inserted between the plates. As it is being inserted:\n",
    "\n",
    "A) a force repels the glass out of the capacitor\n",
    "B) a force attracts the glass into the capacitor\n",
    "C) no force acts on the glass\n",
    "D) a net charge appears on the glass\n",
    "E) the glass makes the plates repel each other"
   ],
   "metadata": {
    "collapsed": false
   }
  },
  {
   "cell_type": "code",
   "execution_count": null,
   "outputs": [],
   "source": [],
   "metadata": {
    "collapsed": false,
    "pycharm": {
     "name": "#%%\n"
    }
   }
  },
  {
   "cell_type": "markdown",
   "source": [
    "Question #3\n",
    "\n",
    "You can approximately model a large thundercloud as a parallel-plate capacitor with sides about 1.0 km long and a gap distance of about 1.0 km. If the cloud was charged with about 10.0 C of charge, how much energy would be held in the electric field between the cloud and the earth? If there was a lightning strike that depleted the entire charge, do you think the tree would survive? (You can model a large oak tree as about 2000kg of water. One kg of water requires 2257 kJ to bring it to vaporize it ).\n"
   ],
   "metadata": {
    "collapsed": false,
    "pycharm": {
     "name": "#%% md\n"
    }
   }
  },
  {
   "cell_type": "code",
   "execution_count": null,
   "outputs": [],
   "source": [],
   "metadata": {
    "collapsed": false,
    "pycharm": {
     "name": "#%%\n"
    }
   }
  },
  {
   "cell_type": "markdown",
   "source": [],
   "metadata": {
    "collapsed": false
   }
  },
  {
   "cell_type": "markdown",
   "source": [
    "Question #4\n",
    "\n",
    "A certain capacitor has a capacitance of 5.0 mF. After it is charged to 5 mC and isolated, the plates are brought closer together so its capacitance becomes 10 mF. The work done by the agent is about:\n",
    "\n",
    "A) 0J\n",
    "B) 1.25 * 10–6 J\n",
    "C) -1.25 * 10–6 J\n",
    "D) 8.3 * 10–7 J\n",
    "E) -8.3 * 10–7 J"
   ],
   "metadata": {
    "collapsed": false,
    "pycharm": {
     "name": "#%% md\n"
    }
   }
  },
  {
   "cell_type": "code",
   "execution_count": null,
   "outputs": [],
   "source": [],
   "metadata": {
    "collapsed": false,
    "pycharm": {
     "name": "#%%\n"
    }
   }
  },
  {
   "cell_type": "markdown",
   "source": [
    "Question #5\n",
    "\n",
    "Suppose you had a spherical capacitor made of two concentric spheres, one with 10 cm radius and one with 2.5 cm radius. Between the sphere is air. What is the capacitance of a spherical capacitor?"
   ],
   "metadata": {
    "collapsed": false
   }
  },
  {
   "cell_type": "code",
   "execution_count": null,
   "outputs": [],
   "source": [],
   "metadata": {
    "collapsed": false,
    "pycharm": {
     "name": "#%%\n"
    }
   }
  }
 ],
 "metadata": {
  "kernelspec": {
   "display_name": "Python 3",
   "language": "python",
   "name": "python3"
  },
  "language_info": {
   "codemirror_mode": {
    "name": "ipython",
    "version": 2
   },
   "file_extension": ".py",
   "mimetype": "text/x-python",
   "name": "python",
   "nbconvert_exporter": "python",
   "pygments_lexer": "ipython2",
   "version": "2.7.6"
  }
 },
 "nbformat": 4,
 "nbformat_minor": 0
}